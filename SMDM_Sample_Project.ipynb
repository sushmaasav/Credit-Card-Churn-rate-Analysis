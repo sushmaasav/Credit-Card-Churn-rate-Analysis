{
 "cells": [
  {
   "cell_type": "markdown",
   "metadata": {},
   "source": [
    "# NATIONAL CONTRACEPTIVE PREVALENCE SURVEY 1987"
   ]
  },
  {
   "cell_type": "markdown",
   "metadata": {},
   "source": [
    "# TABLE OF CONTENT\n",
    "1. **[ABOUT DATA SET](#ADS)**\n",
    "2. **[DESCRIPTIVE STATISTICS](#DS)**\n",
    "3. **[HYPOTHESIS TESTING](#HT)**\n",
    "4. **[SIMULATION](#SIMUL)**"
   ]
  },
  {
   "cell_type": "markdown",
   "metadata": {},
   "source": [
    "<a id = \"ADS\"> </a>\n",
    "# ABOUT DATA SET"
   ]
  },
  {
   "cell_type": "markdown",
   "metadata": {},
   "source": [
    "##### Importing required libraries"
   ]
  },
  {
   "cell_type": "code",
   "execution_count": 2,
   "metadata": {},
   "outputs": [],
   "source": [
    "import numpy as np\n",
    "import pandas as pd\n",
    "import matplotlib.pyplot as plt\n",
    "import seaborn as sns\n",
    "\n",
    "# import statsmodels\n",
    "from scipy import stats\n",
    "import statsmodels.api as sm\n",
    "from statsmodels.formula.api import ols\n",
    "from statsmodels.stats.anova import anova_lm\n",
    "\n",
    "# function to perform post-hoc test\n",
    "import statsmodels.stats.multicomp as mc\n",
    "# import function to perform post-hoc\n",
    "# install scikit_posthocs using \"!pip install scikit_posthocs\" \n",
    "import scikit_posthocs\n",
    "\n",
    "\n",
    "# import the functions to perform Chi-square tests\n",
    "from scipy.stats import chi2_contingency\n",
    "from scipy.stats import chi2\n",
    "from scipy.stats import chisquare"
   ]
  },
  {
   "cell_type": "markdown",
   "metadata": {},
   "source": [
    "##### Data Loading"
   ]
  },
  {
   "cell_type": "code",
   "execution_count": 4,
   "metadata": {},
   "outputs": [
    {
     "data": {
      "text/html": [
       "<div>\n",
       "<style scoped>\n",
       "    .dataframe tbody tr th:only-of-type {\n",
       "        vertical-align: middle;\n",
       "    }\n",
       "\n",
       "    .dataframe tbody tr th {\n",
       "        vertical-align: top;\n",
       "    }\n",
       "\n",
       "    .dataframe thead th {\n",
       "        text-align: right;\n",
       "    }\n",
       "</style>\n",
       "<table border=\"1\" class=\"dataframe\">\n",
       "  <thead>\n",
       "    <tr style=\"text-align: right;\">\n",
       "      <th></th>\n",
       "      <th>Wife's age</th>\n",
       "      <th>Wife's education</th>\n",
       "      <th>Husband's education</th>\n",
       "      <th>Number of children</th>\n",
       "      <th>Wife's religion</th>\n",
       "      <th>Wife's now working?</th>\n",
       "      <th>Husband's occupation</th>\n",
       "      <th>Standard-of-living index</th>\n",
       "      <th>Media exposure</th>\n",
       "      <th>Contraceptive method</th>\n",
       "    </tr>\n",
       "  </thead>\n",
       "  <tbody>\n",
       "    <tr>\n",
       "      <th>0</th>\n",
       "      <td>24</td>\n",
       "      <td>2</td>\n",
       "      <td>3</td>\n",
       "      <td>3</td>\n",
       "      <td>1</td>\n",
       "      <td>1</td>\n",
       "      <td>2</td>\n",
       "      <td>3</td>\n",
       "      <td>0</td>\n",
       "      <td>1</td>\n",
       "    </tr>\n",
       "    <tr>\n",
       "      <th>1</th>\n",
       "      <td>45</td>\n",
       "      <td>1</td>\n",
       "      <td>3</td>\n",
       "      <td>10</td>\n",
       "      <td>1</td>\n",
       "      <td>1</td>\n",
       "      <td>3</td>\n",
       "      <td>4</td>\n",
       "      <td>0</td>\n",
       "      <td>1</td>\n",
       "    </tr>\n",
       "    <tr>\n",
       "      <th>2</th>\n",
       "      <td>43</td>\n",
       "      <td>2</td>\n",
       "      <td>3</td>\n",
       "      <td>7</td>\n",
       "      <td>1</td>\n",
       "      <td>1</td>\n",
       "      <td>3</td>\n",
       "      <td>4</td>\n",
       "      <td>0</td>\n",
       "      <td>1</td>\n",
       "    </tr>\n",
       "    <tr>\n",
       "      <th>3</th>\n",
       "      <td>42</td>\n",
       "      <td>3</td>\n",
       "      <td>2</td>\n",
       "      <td>9</td>\n",
       "      <td>1</td>\n",
       "      <td>1</td>\n",
       "      <td>3</td>\n",
       "      <td>3</td>\n",
       "      <td>0</td>\n",
       "      <td>1</td>\n",
       "    </tr>\n",
       "    <tr>\n",
       "      <th>4</th>\n",
       "      <td>36</td>\n",
       "      <td>3</td>\n",
       "      <td>3</td>\n",
       "      <td>8</td>\n",
       "      <td>1</td>\n",
       "      <td>1</td>\n",
       "      <td>3</td>\n",
       "      <td>2</td>\n",
       "      <td>0</td>\n",
       "      <td>1</td>\n",
       "    </tr>\n",
       "  </tbody>\n",
       "</table>\n",
       "</div>"
      ],
      "text/plain": [
       "   Wife's age  Wife's education  Husband's education  Number of children  \\\n",
       "0          24                 2                    3                   3   \n",
       "1          45                 1                    3                  10   \n",
       "2          43                 2                    3                   7   \n",
       "3          42                 3                    2                   9   \n",
       "4          36                 3                    3                   8   \n",
       "\n",
       "   Wife's religion  Wife's now working?  Husband's occupation  \\\n",
       "0                1                    1                     2   \n",
       "1                1                    1                     3   \n",
       "2                1                    1                     3   \n",
       "3                1                    1                     3   \n",
       "4                1                    1                     3   \n",
       "\n",
       "   Standard-of-living index  Media exposure  Contraceptive method  \n",
       "0                         3               0                     1  \n",
       "1                         4               0                     1  \n",
       "2                         4               0                     1  \n",
       "3                         3               0                     1  \n",
       "4                         2               0                     1  "
      ]
     },
     "execution_count": 4,
     "metadata": {},
     "output_type": "execute_result"
    }
   ],
   "source": [
    "df=pd.read_csv(\"cmc.data\")\n",
    "df.head()"
   ]
  },
  {
   "cell_type": "markdown",
   "metadata": {},
   "source": [
    "##### Attribute Information"
   ]
  },
  {
   "cell_type": "markdown",
   "metadata": {},
   "source": [
    "##### Numerical\n",
    "\n",
    "1. Wife's age\n",
    "\n",
    "\n",
    "2. Number of children ever born\n",
    "\n",
    "##### Categorical\n",
    "\n",
    "3. Wife's education:           1=low, 2, 3, 4=high\n",
    "\n",
    "\n",
    "4. Husband's education:        1=low, 2, 3, 4=high\n",
    "\n",
    "\n",
    "5. Wife's religion:            0=Non-Islam, 1=Islam\n",
    "\n",
    "\n",
    "6. Wife's now working?:        0=Yes, 1=No\n",
    "\n",
    "\n",
    "7. Husband's occupation:       1, 2, 3, 4\n",
    "\n",
    "\n",
    "8. Standard-of-living index:   1=low, 2, 3, 4=high\n",
    "\n",
    "\n",
    "9. Media exposure:             0=Good, 1=Not good\n",
    "\n",
    "\n",
    "10. Contraceptive method used: 1=No-use ,2=Long-term,3=Short-term"
   ]
  },
  {
   "cell_type": "markdown",
   "metadata": {},
   "source": [
    "##### Shape of the Data"
   ]
  },
  {
   "cell_type": "code",
   "execution_count": 6,
   "metadata": {},
   "outputs": [
    {
     "data": {
      "text/plain": [
       "(1473, 10)"
      ]
     },
     "execution_count": 6,
     "metadata": {},
     "output_type": "execute_result"
    }
   ],
   "source": [
    "df.shape"
   ]
  },
  {
   "cell_type": "markdown",
   "metadata": {},
   "source": [
    "##### Checking null values"
   ]
  },
  {
   "cell_type": "code",
   "execution_count": 7,
   "metadata": {},
   "outputs": [
    {
     "data": {
      "text/plain": [
       "Wife's age                  0\n",
       "Wife's education            0\n",
       "Husband's education         0\n",
       "Number of children          0\n",
       "Wife's religion             0\n",
       "Wife's now working?         0\n",
       "Husband's occupation        0\n",
       "Standard-of-living index    0\n",
       "Media exposure              0\n",
       "Contraceptive method        0\n",
       "dtype: int64"
      ]
     },
     "execution_count": 7,
     "metadata": {},
     "output_type": "execute_result"
    }
   ],
   "source": [
    "df.isnull().sum()"
   ]
  },
  {
   "cell_type": "markdown",
   "metadata": {},
   "source": [
    "##### Type conversion as per requirement"
   ]
  },
  {
   "cell_type": "code",
   "execution_count": 8,
   "metadata": {},
   "outputs": [],
   "source": [
    "df[\"Wife's education\"]=df[\"Wife's education\"].astype('object')\n",
    "df[\"Husband's education\"]=df[\"Husband's education\"].astype('object')\n",
    "df[\"Wife's religion\"]=df[\"Wife's religion\"].astype('object')\n",
    "df[\"Wife's now working?\"]=df[\"Wife's now working?\"].astype('object')\n",
    "df[\"Husband's occupation\"]=df[\"Husband's occupation\"].astype('object')\n",
    "df[\"Standard-of-living index\"]=df[\"Standard-of-living index\"].astype('object')\n",
    "df[\"Media exposure\"]=df[\"Media exposure\"].astype('object')\n",
    "df[\"Contraceptive method\"]=df[\"Contraceptive method\"].astype('object')"
   ]
  },
  {
   "cell_type": "markdown",
   "metadata": {},
   "source": [
    "##### Checking the data type of each column"
   ]
  },
  {
   "cell_type": "code",
   "execution_count": 9,
   "metadata": {},
   "outputs": [
    {
     "data": {
      "text/plain": [
       "Wife's age                   int64\n",
       "Wife's education            object\n",
       "Husband's education         object\n",
       "Number of children           int64\n",
       "Wife's religion             object\n",
       "Wife's now working?         object\n",
       "Husband's occupation        object\n",
       "Standard-of-living index    object\n",
       "Media exposure              object\n",
       "Contraceptive method        object\n",
       "dtype: object"
      ]
     },
     "execution_count": 9,
     "metadata": {},
     "output_type": "execute_result"
    }
   ],
   "source": [
    "df.dtypes"
   ]
  },
  {
   "cell_type": "code",
   "execution_count": 10,
   "metadata": {},
   "outputs": [
    {
     "data": {
      "text/html": [
       "<div>\n",
       "<style scoped>\n",
       "    .dataframe tbody tr th:only-of-type {\n",
       "        vertical-align: middle;\n",
       "    }\n",
       "\n",
       "    .dataframe tbody tr th {\n",
       "        vertical-align: top;\n",
       "    }\n",
       "\n",
       "    .dataframe thead th {\n",
       "        text-align: right;\n",
       "    }\n",
       "</style>\n",
       "<table border=\"1\" class=\"dataframe\">\n",
       "  <thead>\n",
       "    <tr style=\"text-align: right;\">\n",
       "      <th></th>\n",
       "      <th>Wife's age</th>\n",
       "      <th>Number of children</th>\n",
       "    </tr>\n",
       "  </thead>\n",
       "  <tbody>\n",
       "    <tr>\n",
       "      <th>0</th>\n",
       "      <td>24</td>\n",
       "      <td>3</td>\n",
       "    </tr>\n",
       "    <tr>\n",
       "      <th>1</th>\n",
       "      <td>45</td>\n",
       "      <td>10</td>\n",
       "    </tr>\n",
       "    <tr>\n",
       "      <th>2</th>\n",
       "      <td>43</td>\n",
       "      <td>7</td>\n",
       "    </tr>\n",
       "    <tr>\n",
       "      <th>3</th>\n",
       "      <td>42</td>\n",
       "      <td>9</td>\n",
       "    </tr>\n",
       "    <tr>\n",
       "      <th>4</th>\n",
       "      <td>36</td>\n",
       "      <td>8</td>\n",
       "    </tr>\n",
       "  </tbody>\n",
       "</table>\n",
       "</div>"
      ],
      "text/plain": [
       "   Wife's age  Number of children\n",
       "0          24                   3\n",
       "1          45                  10\n",
       "2          43                   7\n",
       "3          42                   9\n",
       "4          36                   8"
      ]
     },
     "execution_count": 10,
     "metadata": {},
     "output_type": "execute_result"
    }
   ],
   "source": [
    "#Numerical columns\n",
    "data_num=df.iloc[:,[0,3]]\n",
    "data_num.head()"
   ]
  },
  {
   "cell_type": "markdown",
   "metadata": {},
   "source": [
    "##### Statistical Summary using .describe method"
   ]
  },
  {
   "cell_type": "code",
   "execution_count": 11,
   "metadata": {},
   "outputs": [
    {
     "data": {
      "text/html": [
       "<div>\n",
       "<style scoped>\n",
       "    .dataframe tbody tr th:only-of-type {\n",
       "        vertical-align: middle;\n",
       "    }\n",
       "\n",
       "    .dataframe tbody tr th {\n",
       "        vertical-align: top;\n",
       "    }\n",
       "\n",
       "    .dataframe thead th {\n",
       "        text-align: right;\n",
       "    }\n",
       "</style>\n",
       "<table border=\"1\" class=\"dataframe\">\n",
       "  <thead>\n",
       "    <tr style=\"text-align: right;\">\n",
       "      <th></th>\n",
       "      <th>Wife's age</th>\n",
       "      <th>Number of children</th>\n",
       "    </tr>\n",
       "  </thead>\n",
       "  <tbody>\n",
       "    <tr>\n",
       "      <th>count</th>\n",
       "      <td>1473.000000</td>\n",
       "      <td>1473.000000</td>\n",
       "    </tr>\n",
       "    <tr>\n",
       "      <th>mean</th>\n",
       "      <td>32.538357</td>\n",
       "      <td>3.261371</td>\n",
       "    </tr>\n",
       "    <tr>\n",
       "      <th>std</th>\n",
       "      <td>8.227245</td>\n",
       "      <td>2.358549</td>\n",
       "    </tr>\n",
       "    <tr>\n",
       "      <th>min</th>\n",
       "      <td>16.000000</td>\n",
       "      <td>0.000000</td>\n",
       "    </tr>\n",
       "    <tr>\n",
       "      <th>25%</th>\n",
       "      <td>26.000000</td>\n",
       "      <td>1.000000</td>\n",
       "    </tr>\n",
       "    <tr>\n",
       "      <th>50%</th>\n",
       "      <td>32.000000</td>\n",
       "      <td>3.000000</td>\n",
       "    </tr>\n",
       "    <tr>\n",
       "      <th>75%</th>\n",
       "      <td>39.000000</td>\n",
       "      <td>4.000000</td>\n",
       "    </tr>\n",
       "    <tr>\n",
       "      <th>max</th>\n",
       "      <td>49.000000</td>\n",
       "      <td>16.000000</td>\n",
       "    </tr>\n",
       "  </tbody>\n",
       "</table>\n",
       "</div>"
      ],
      "text/plain": [
       "        Wife's age  Number of children\n",
       "count  1473.000000         1473.000000\n",
       "mean     32.538357            3.261371\n",
       "std       8.227245            2.358549\n",
       "min      16.000000            0.000000\n",
       "25%      26.000000            1.000000\n",
       "50%      32.000000            3.000000\n",
       "75%      39.000000            4.000000\n",
       "max      49.000000           16.000000"
      ]
     },
     "execution_count": 11,
     "metadata": {},
     "output_type": "execute_result"
    }
   ],
   "source": [
    "#Description of numerical columns\n",
    "data_num.describe()"
   ]
  },
  {
   "cell_type": "markdown",
   "metadata": {},
   "source": [
    "<a id = \"DS\"> </a>\n",
    "# DESCRIPTIVE STATISTICS"
   ]
  },
  {
   "cell_type": "markdown",
   "metadata": {},
   "source": [
    "### Measures of Central Tendency"
   ]
  },
  {
   "cell_type": "code",
   "execution_count": 12,
   "metadata": {},
   "outputs": [
    {
     "data": {
      "text/plain": [
       "Wife's age            32.538357\n",
       "Number of children     3.261371\n",
       "dtype: float64"
      ]
     },
     "execution_count": 12,
     "metadata": {},
     "output_type": "execute_result"
    }
   ],
   "source": [
    "data_num.mean()"
   ]
  },
  {
   "cell_type": "code",
   "execution_count": 13,
   "metadata": {},
   "outputs": [
    {
     "data": {
      "text/plain": [
       "Wife's age            32.0\n",
       "Number of children     3.0\n",
       "dtype: float64"
      ]
     },
     "execution_count": 13,
     "metadata": {},
     "output_type": "execute_result"
    }
   ],
   "source": [
    "data_num.median()"
   ]
  },
  {
   "cell_type": "code",
   "execution_count": 14,
   "metadata": {},
   "outputs": [
    {
     "data": {
      "text/html": [
       "<div>\n",
       "<style scoped>\n",
       "    .dataframe tbody tr th:only-of-type {\n",
       "        vertical-align: middle;\n",
       "    }\n",
       "\n",
       "    .dataframe tbody tr th {\n",
       "        vertical-align: top;\n",
       "    }\n",
       "\n",
       "    .dataframe thead th {\n",
       "        text-align: right;\n",
       "    }\n",
       "</style>\n",
       "<table border=\"1\" class=\"dataframe\">\n",
       "  <thead>\n",
       "    <tr style=\"text-align: right;\">\n",
       "      <th></th>\n",
       "      <th>Wife's age</th>\n",
       "      <th>Number of children</th>\n",
       "    </tr>\n",
       "  </thead>\n",
       "  <tbody>\n",
       "    <tr>\n",
       "      <th>0</th>\n",
       "      <td>25.0</td>\n",
       "      <td>1</td>\n",
       "    </tr>\n",
       "    <tr>\n",
       "      <th>1</th>\n",
       "      <td>NaN</td>\n",
       "      <td>2</td>\n",
       "    </tr>\n",
       "  </tbody>\n",
       "</table>\n",
       "</div>"
      ],
      "text/plain": [
       "   Wife's age  Number of children\n",
       "0        25.0                   1\n",
       "1         NaN                   2"
      ]
     },
     "execution_count": 14,
     "metadata": {},
     "output_type": "execute_result"
    }
   ],
   "source": [
    "data_num.mode()"
   ]
  },
  {
   "cell_type": "markdown",
   "metadata": {},
   "source": [
    "### Measures of Dispersion"
   ]
  },
  {
   "cell_type": "code",
   "execution_count": 15,
   "metadata": {},
   "outputs": [
    {
     "data": {
      "text/plain": [
       "Wife's age            67.687556\n",
       "Number of children     5.562753\n",
       "dtype: float64"
      ]
     },
     "execution_count": 15,
     "metadata": {},
     "output_type": "execute_result"
    }
   ],
   "source": [
    "data_num.var()"
   ]
  },
  {
   "cell_type": "code",
   "execution_count": 16,
   "metadata": {},
   "outputs": [
    {
     "data": {
      "text/plain": [
       "Wife's age            8.227245\n",
       "Number of children    2.358549\n",
       "dtype: float64"
      ]
     },
     "execution_count": 16,
     "metadata": {},
     "output_type": "execute_result"
    }
   ],
   "source": [
    "data_num.std()"
   ]
  },
  {
   "cell_type": "markdown",
   "metadata": {},
   "source": [
    "### Detection of Outliers"
   ]
  },
  {
   "cell_type": "code",
   "execution_count": 17,
   "metadata": {},
   "outputs": [
    {
     "data": {
      "text/html": [
       "<div>\n",
       "<style scoped>\n",
       "    .dataframe tbody tr th:only-of-type {\n",
       "        vertical-align: middle;\n",
       "    }\n",
       "\n",
       "    .dataframe tbody tr th {\n",
       "        vertical-align: top;\n",
       "    }\n",
       "\n",
       "    .dataframe thead th {\n",
       "        text-align: right;\n",
       "    }\n",
       "</style>\n",
       "<table border=\"1\" class=\"dataframe\">\n",
       "  <thead>\n",
       "    <tr style=\"text-align: right;\">\n",
       "      <th></th>\n",
       "      <th>mean</th>\n",
       "      <th>trimmed_mean</th>\n",
       "    </tr>\n",
       "  </thead>\n",
       "  <tbody>\n",
       "    <tr>\n",
       "      <th>Wife's age</th>\n",
       "      <td>32.538357</td>\n",
       "      <td>32.529412</td>\n",
       "    </tr>\n",
       "    <tr>\n",
       "      <th>Number of children</th>\n",
       "      <td>3.261371</td>\n",
       "      <td>3.208997</td>\n",
       "    </tr>\n",
       "  </tbody>\n",
       "</table>\n",
       "</div>"
      ],
      "text/plain": [
       "                         mean  trimmed_mean\n",
       "Wife's age          32.538357     32.529412\n",
       "Number of children   3.261371      3.208997"
      ]
     },
     "execution_count": 17,
     "metadata": {},
     "output_type": "execute_result"
    }
   ],
   "source": [
    "mean=data_num.mean()\n",
    "from scipy.stats import trim_mean\n",
    "trimmed_mean=list(trim_mean(data_num, proportiontocut = 0.01))\n",
    "pd.DataFrame({'mean':mean,'trimmed_mean':trimmed_mean})"
   ]
  },
  {
   "cell_type": "code",
   "execution_count": 18,
   "metadata": {},
   "outputs": [
    {
     "data": {
      "image/png": "[encoded data removed]",
      "text/plain": [
       "<Figure size 432x288 with 1 Axes>"
      ]
     },
     "metadata": {
      "needs_background": "light"
     },
     "output_type": "display_data"
    }
   ],
   "source": [
    "plt.boxplot([data_num[\"Wife's age\"],data_num[\"Number of children\"]])\n",
    "plt.xticks([1,2],[\"Wife's age\",\"Number of children\"])\n",
    "plt.show()"
   ]
  },
  {
   "cell_type": "code",
   "execution_count": 19,
   "metadata": {},
   "outputs": [
    {
     "name": "stdout",
     "output_type": "stream",
     "text": [
      "[10, 9, 9, 10, 10, 10, 12, 11, 11, 11, 10, 9, 10, 11, 13, 11, 10, 16, 13, 11, 9, 9, 9, 11, 9, 11, 12, 10, 9, 11, 9, 10, 11, 12, 12, 10, 10, 9, 9, 9, 9, 9, 11, 9, 9]\n"
     ]
    }
   ],
   "source": [
    "q1=df['Number of children'].quantile(0.25)\n",
    "q3=df['Number of children'].quantile(0.75)\n",
    "IQR=q3-q1\n",
    "outliers=[]\n",
    "lower_bound=q1-(1.5*IQR)\n",
    "higher_bound=q3+(1.5*IQR)\n",
    "for i in df['Number of children']:\n",
    "    if i<lower_bound:\n",
    "        outliers.append(i)    \n",
    "for i in df['Number of children']:\n",
    "    if i>higher_bound:\n",
    "        outliers.append(i) \n",
    "print(outliers)"
   ]
  },
  {
   "cell_type": "markdown",
   "metadata": {},
   "source": [
    "### Distribution Of Data"
   ]
  },
  {
   "cell_type": "code",
   "execution_count": 20,
   "metadata": {},
   "outputs": [
    {
     "data": {
      "image/png": "[encoded data removed]",
      "text/plain": [
       "<Figure size 864x360 with 2 Axes>"
      ]
     },
     "metadata": {
      "needs_background": "light"
     },
     "output_type": "display_data"
    }
   ],
   "source": [
    "data_num.plot(kind='density',subplots=True,sharex=False,layout=(1,2),figsize=(12,5))\n",
    "plt.show()"
   ]
  },
  {
   "cell_type": "markdown",
   "metadata": {},
   "source": [
    "### Skewness and Kurtosis"
   ]
  },
  {
   "cell_type": "code",
   "execution_count": 21,
   "metadata": {},
   "outputs": [
    {
     "data": {
      "text/plain": [
       "Wife's age            0.256449\n",
       "Number of children    1.099014\n",
       "dtype: float64"
      ]
     },
     "execution_count": 21,
     "metadata": {},
     "output_type": "execute_result"
    }
   ],
   "source": [
    "data_num.skew()"
   ]
  },
  {
   "cell_type": "code",
   "execution_count": 22,
   "metadata": {},
   "outputs": [
    {
     "data": {
      "text/plain": [
       "Wife's age           -0.943894\n",
       "Number of children    1.529607\n",
       "dtype: float64"
      ]
     },
     "execution_count": 22,
     "metadata": {},
     "output_type": "execute_result"
    }
   ],
   "source": [
    "data_num.kurt()"
   ]
  },
  {
   "cell_type": "markdown",
   "metadata": {},
   "source": [
    "### Correlation and Covariance"
   ]
  },
  {
   "cell_type": "code",
   "execution_count": 23,
   "metadata": {},
   "outputs": [
    {
     "data": {
      "text/html": [
       "<div>\n",
       "<style scoped>\n",
       "    .dataframe tbody tr th:only-of-type {\n",
       "        vertical-align: middle;\n",
       "    }\n",
       "\n",
       "    .dataframe tbody tr th {\n",
       "        vertical-align: top;\n",
       "    }\n",
       "\n",
       "    .dataframe thead th {\n",
       "        text-align: right;\n",
       "    }\n",
       "</style>\n",
       "<table border=\"1\" class=\"dataframe\">\n",
       "  <thead>\n",
       "    <tr style=\"text-align: right;\">\n",
       "      <th></th>\n",
       "      <th>Wife's age</th>\n",
       "      <th>Number of children</th>\n",
       "    </tr>\n",
       "  </thead>\n",
       "  <tbody>\n",
       "    <tr>\n",
       "      <th>Wife's age</th>\n",
       "      <td>1.000000</td>\n",
       "      <td>0.540126</td>\n",
       "    </tr>\n",
       "    <tr>\n",
       "      <th>Number of children</th>\n",
       "      <td>0.540126</td>\n",
       "      <td>1.000000</td>\n",
       "    </tr>\n",
       "  </tbody>\n",
       "</table>\n",
       "</div>"
      ],
      "text/plain": [
       "                    Wife's age  Number of children\n",
       "Wife's age            1.000000            0.540126\n",
       "Number of children    0.540126            1.000000"
      ]
     },
     "execution_count": 23,
     "metadata": {},
     "output_type": "execute_result"
    }
   ],
   "source": [
    "df.corr()"
   ]
  },
  {
   "cell_type": "code",
   "execution_count": 24,
   "metadata": {},
   "outputs": [
    {
     "data": {
      "text/plain": [
       "<matplotlib.axes._subplots.AxesSubplot at 0x1b61e234ca0>"
      ]
     },
     "execution_count": 24,
     "metadata": {},
     "output_type": "execute_result"
    },
    {
     "data": {
      "image/png": "[encoded data removed]",
      "text/plain": [
       "<Figure size 432x288 with 2 Axes>"
      ]
     },
     "metadata": {
      "needs_background": "light"
     },
     "output_type": "display_data"
    }
   ],
   "source": [
    "sns.heatmap(df.corr())"
   ]
  },
  {
   "cell_type": "markdown",
   "metadata": {},
   "source": [
    " <a id = \"HT\"> </a>\n",
    "# HYPOTHESIS TESTING"
   ]
  },
  {
   "cell_type": "code",
   "execution_count": 25,
   "metadata": {},
   "outputs": [
    {
     "data": {
      "text/plain": [
       "Index(['Wife's age', 'Wife's education', 'Husband's education',\n",
       "       'Number of children', 'Wife's religion', 'Wife's now working?',\n",
       "       'Husband's occupation', 'Standard-of-living index', 'Media exposure',\n",
       "       'Contraceptive method'],\n",
       "      dtype='object')"
      ]
     },
     "execution_count": 25,
     "metadata": {},
     "output_type": "execute_result"
    }
   ],
   "source": [
    "df.columns"
   ]
  },
  {
   "cell_type": "markdown",
   "metadata": {},
   "source": [
    "##### Perform Shapiro and Levene test"
   ]
  },
  {
   "cell_type": "code",
   "execution_count": 26,
   "metadata": {},
   "outputs": [
    {
     "name": "stdout",
     "output_type": "stream",
     "text": [
      "P value for shapiro:  2.6925632106375885e-28\n",
      "P value for c1:  9.494640997947734e-22\n",
      "P value for c2:  2.3093621199371528e-12\n",
      "P value for c3:  1.3821743426181845e-19\n",
      "P value for levene:  1.2125949179422519e-06\n"
     ]
    }
   ],
   "source": [
    "test ,p_value = stats.shapiro(df[\"Number of children\"])\n",
    "print('P value for shapiro: ',p_value)\n",
    "\n",
    "\n",
    "c1 = df[df['Contraceptive method'] == 1][\"Number of children\"]\n",
    "c2 = df[df['Contraceptive method'] == 2][\"Number of children\"]\n",
    "c3 = df[df['Contraceptive method'] == 3][\"Number of children\"]\n",
    "\n",
    "test, p_val = stats.shapiro(c1)\n",
    "print('P value for c1: ', p_val)\n",
    "\n",
    "test, p_val = stats.shapiro(c2)\n",
    "print('P value for c2: ', p_val)\n",
    "\n",
    "test, p_val = stats.shapiro(c3)\n",
    "print('P value for c3: ', p_val)\n",
    "\n",
    "test, p_val = stats.levene(c1,c2,c3)\n",
    "print('P value for levene: ', p_val)"
   ]
  },
  {
   "cell_type": "markdown",
   "metadata": {},
   "source": [
    "Based on Shapiro and Levene test we can easily conclude that this data is not normally distributed, hence we perform the non-parametric test."
   ]
  },
  {
   "cell_type": "markdown",
   "metadata": {},
   "source": [
    "# 1.KRUSKAL WALLIS H TEST"
   ]
  },
  {
   "cell_type": "markdown",
   "metadata": {},
   "source": [
    "### Now we are going to check whether the average number of children is same or different based on the Contraceptive method used."
   ]
  },
  {
   "cell_type": "markdown",
   "metadata": {},
   "source": [
    "## The Null and Alternative Hypothesis is:\n",
    "\n",
    "### H<sub>0</sub>: Average number of children is the same for each type of Contraceptive Method.\n",
    "\n",
    "### H<sub>1</sub>: Average number of children is different for at least one type of Contraceptive Method."
   ]
  },
  {
   "cell_type": "code",
   "execution_count": 27,
   "metadata": {},
   "outputs": [
    {
     "name": "stdout",
     "output_type": "stream",
     "text": [
      "P_value for Kruskal :  1.1082473929391914e-13\n",
      "Significance level:  0.05\n"
     ]
    }
   ],
   "source": [
    "alpha=0.05\n",
    "test_stat, p_value = stats.kruskal(df[df['Contraceptive method'] == 1][\"Number of children\"],\n",
    "              df[df['Contraceptive method'] == 2][\"Number of children\"],\n",
    "              df[df['Contraceptive method'] == 3][\"Number of children\"])\n",
    "\n",
    "print('P_value for Kruskal : ', p_value)\n",
    "print('Significance level: ',alpha)"
   ]
  },
  {
   "cell_type": "markdown",
   "metadata": {},
   "source": [
    "Here P value is less than alpha thus we reject null hypothesis.\n",
    "\n",
    "And we conclude that average number of children is different for at least one type of Contraceptive Method."
   ]
  },
  {
   "cell_type": "markdown",
   "metadata": {},
   "source": [
    "##### Is it possible to identify the Number of children with different Contraceptive Method? If yes, perform the test at a 5% level of significance."
   ]
  },
  {
   "cell_type": "markdown",
   "metadata": {},
   "source": [
    "### Post Hoc Analysis using Conover Test"
   ]
  },
  {
   "cell_type": "code",
   "execution_count": 28,
   "metadata": {
    "scrolled": true
   },
   "outputs": [
    {
     "data": {
      "text/html": [
       "<div>\n",
       "<style scoped>\n",
       "    .dataframe tbody tr th:only-of-type {\n",
       "        vertical-align: middle;\n",
       "    }\n",
       "\n",
       "    .dataframe tbody tr th {\n",
       "        vertical-align: top;\n",
       "    }\n",
       "\n",
       "    .dataframe thead th {\n",
       "        text-align: right;\n",
       "    }\n",
       "</style>\n",
       "<table border=\"1\" class=\"dataframe\">\n",
       "  <thead>\n",
       "    <tr style=\"text-align: right;\">\n",
       "      <th></th>\n",
       "      <th>1</th>\n",
       "      <th>2</th>\n",
       "      <th>3</th>\n",
       "    </tr>\n",
       "  </thead>\n",
       "  <tbody>\n",
       "    <tr>\n",
       "      <th>1</th>\n",
       "      <td>1.000000e+00</td>\n",
       "      <td>2.205238e-13</td>\n",
       "      <td>7.985241e-08</td>\n",
       "    </tr>\n",
       "    <tr>\n",
       "      <th>2</th>\n",
       "      <td>2.205238e-13</td>\n",
       "      <td>1.000000e+00</td>\n",
       "      <td>1.046469e-02</td>\n",
       "    </tr>\n",
       "    <tr>\n",
       "      <th>3</th>\n",
       "      <td>7.985241e-08</td>\n",
       "      <td>1.046469e-02</td>\n",
       "      <td>1.000000e+00</td>\n",
       "    </tr>\n",
       "  </tbody>\n",
       "</table>\n",
       "</div>"
      ],
      "text/plain": [
       "              1             2             3\n",
       "1  1.000000e+00  2.205238e-13  7.985241e-08\n",
       "2  2.205238e-13  1.000000e+00  1.046469e-02\n",
       "3  7.985241e-08  1.046469e-02  1.000000e+00"
      ]
     },
     "execution_count": 28,
     "metadata": {},
     "output_type": "execute_result"
    }
   ],
   "source": [
    "scikit_posthocs.posthoc_conover(a = df, val_col = 'Number of children', group_col = 'Contraceptive method')"
   ]
  },
  {
   "cell_type": "markdown",
   "metadata": {},
   "source": [
    "The P value for pairs\n",
    "\n",
    "no use(1) and long term(2) & no use(1) and short term(3)\n",
    "\n",
    "long term(2) and no use(1) & long term(2) and short term(3)\n",
    "\n",
    "short term(3) and no use(1) & short term(3) and long term(2)\n",
    "\n",
    "is less than 0.05.\n",
    "\n",
    "Thus we can conclude that the avg number of children is different based on the Contraceptive Method used."
   ]
  },
  {
   "cell_type": "markdown",
   "metadata": {},
   "source": [
    "# 2.ONE WAY ANOVA"
   ]
  },
  {
   "cell_type": "markdown",
   "metadata": {},
   "source": [
    "## The Null and Alternative Hypothesis is:\n",
    "\n",
    "### H<sub>0</sub>:The Contraceptive Method used by women of different ages is the same.\n",
    "\n",
    "### H<sub>1</sub>:The Contraceptive Method used by women of different ages is not the same."
   ]
  },
  {
   "cell_type": "code",
   "execution_count": 29,
   "metadata": {},
   "outputs": [
    {
     "data": {
      "text/html": [
       "<div>\n",
       "<style scoped>\n",
       "    .dataframe tbody tr th:only-of-type {\n",
       "        vertical-align: middle;\n",
       "    }\n",
       "\n",
       "    .dataframe tbody tr th {\n",
       "        vertical-align: top;\n",
       "    }\n",
       "\n",
       "    .dataframe thead th {\n",
       "        text-align: right;\n",
       "    }\n",
       "</style>\n",
       "<table border=\"1\" class=\"dataframe\">\n",
       "  <thead>\n",
       "    <tr style=\"text-align: right;\">\n",
       "      <th></th>\n",
       "      <th>Contraceptive method</th>\n",
       "      <th>Wife's age</th>\n",
       "    </tr>\n",
       "  </thead>\n",
       "  <tbody>\n",
       "    <tr>\n",
       "      <th>0</th>\n",
       "      <td>1</td>\n",
       "      <td>24</td>\n",
       "    </tr>\n",
       "    <tr>\n",
       "      <th>1</th>\n",
       "      <td>1</td>\n",
       "      <td>45</td>\n",
       "    </tr>\n",
       "    <tr>\n",
       "      <th>2</th>\n",
       "      <td>1</td>\n",
       "      <td>43</td>\n",
       "    </tr>\n",
       "    <tr>\n",
       "      <th>3</th>\n",
       "      <td>1</td>\n",
       "      <td>42</td>\n",
       "    </tr>\n",
       "    <tr>\n",
       "      <th>4</th>\n",
       "      <td>1</td>\n",
       "      <td>36</td>\n",
       "    </tr>\n",
       "  </tbody>\n",
       "</table>\n",
       "</div>"
      ],
      "text/plain": [
       "  Contraceptive method  Wife's age\n",
       "0                    1          24\n",
       "1                    1          45\n",
       "2                    1          43\n",
       "3                    1          42\n",
       "4                    1          36"
      ]
     },
     "execution_count": 29,
     "metadata": {},
     "output_type": "execute_result"
    }
   ],
   "source": [
    "df1=df[[\"Contraceptive method\",\"Wife's age\"]]\n",
    "df1.head()"
   ]
  },
  {
   "cell_type": "code",
   "execution_count": 30,
   "metadata": {},
   "outputs": [
    {
     "data": {
      "image/png": "[encoded data removed]",
      "text/plain": [
       "<Figure size 432x288 with 1 Axes>"
      ]
     },
     "metadata": {
      "needs_background": "light"
     },
     "output_type": "display_data"
    }
   ],
   "source": [
    "sns.boxplot(x = \"Contraceptive method\", y = \"Wife's age\", data = df1,palette=['lightblue','pink','violet'])\n",
    "plt.show()"
   ]
  },
  {
   "cell_type": "code",
   "execution_count": 31,
   "metadata": {},
   "outputs": [],
   "source": [
    "#Sample of n=50\n",
    "dtype1=df1[df1[\"Contraceptive method\"]==1].sample(50,random_state=2)\n",
    "dtype2=df1[df1[\"Contraceptive method\"]==2].sample(50,random_state=2)\n",
    "dtype3=df1[df1[\"Contraceptive method\"]==3].sample(50,random_state=10)"
   ]
  },
  {
   "cell_type": "code",
   "execution_count": 32,
   "metadata": {},
   "outputs": [
    {
     "name": "stdout",
     "output_type": "stream",
     "text": [
      "ShapiroResult(statistic=0.9571387767791748, pvalue=0.0674646720290184)\n",
      "ShapiroResult(statistic=0.9787477254867554, pvalue=0.5004413723945618)\n",
      "ShapiroResult(statistic=0.9690860509872437, pvalue=0.21241095662117004)\n"
     ]
    }
   ],
   "source": [
    "# Checking for normality of data at 95% confidence level\n",
    "print(stats.shapiro(dtype1[\"Wife's age\"]))\n",
    "print(stats.shapiro(dtype2[\"Wife's age\"]))\n",
    "print(stats.shapiro(dtype3[\"Wife's age\"]))"
   ]
  },
  {
   "cell_type": "markdown",
   "metadata": {},
   "source": [
    "Since p-value is greater 0.05 level of significance we have enough evidence to conclude that the data is normally distributed."
   ]
  },
  {
   "cell_type": "code",
   "execution_count": 33,
   "metadata": {},
   "outputs": [
    {
     "data": {
      "text/plain": [
       "LeveneResult(statistic=2.878860626128838, pvalue=0.059373277092232724)"
      ]
     },
     "execution_count": 33,
     "metadata": {},
     "output_type": "execute_result"
    }
   ],
   "source": [
    "stats.levene(dtype1[\"Wife's age\"],dtype2[\"Wife's age\"],dtype3[\"Wife's age\"])"
   ]
  },
  {
   "cell_type": "markdown",
   "metadata": {},
   "source": [
    "Since p_value is greater than 0.05 level of significance we have enough evidence to conclude that the data has equal variance"
   ]
  },
  {
   "cell_type": "code",
   "execution_count": 38,
   "metadata": {},
   "outputs": [
    {
     "name": "stdout",
     "output_type": "stream",
     "text": [
      "F critical value with 95% confidence: 3.057620651649394\n",
      "F statistic: 4.720896873238956\n",
      "P-value: 0.010301352958241352\n"
     ]
    }
   ],
   "source": [
    "#Calculating critical value:\n",
    "crit_val = stats.f.isf(0.05, dfn = 2, dfd = 147)\n",
    "print(\"F critical value with 95% confidence:\",crit_val)\n",
    "#Calculating f_statistic and p-value:\n",
    "f_stat, p_val = stats.f_oneway(dtype1[\"Wife's age\"],dtype2[\"Wife's age\"],dtype3[\"Wife's age\"])\n",
    "print(\"F statistic:\",f_stat)\n",
    "#Calculating p-value\n",
    "print(\"P-value:\",p_val)"
   ]
  },
  {
   "cell_type": "markdown",
   "metadata": {},
   "source": [
    "Since f statistic is greater than F critical value for 2 and 47 df with 95% confidence it falls in the rejection region and so we reject the null hypothesis and coclude that the mean age of women using each type of contraceptive method is the different"
   ]
  },
  {
   "cell_type": "markdown",
   "metadata": {},
   "source": [
    "Since p-value is less than 5% significance level it falls in the rejection region and so we reject the null hypothesis and coclude that the mean age of women using each type of contraceptive method is the different"
   ]
  },
  {
   "cell_type": "markdown",
   "metadata": {},
   "source": [
    "### Post Hoc Analysis using Tuckey's HSD test"
   ]
  },
  {
   "cell_type": "code",
   "execution_count": 39,
   "metadata": {},
   "outputs": [
    {
     "data": {
      "text/html": [
       "<table class=\"simpletable\">\n",
       "<caption>Multiple Comparison of Means - Tukey HSD, FWER=0.05</caption>\n",
       "<tr>\n",
       "  <th>group1</th> <th>group2</th> <th>meandiff</th>  <th>p-adj</th>  <th>lower</th>   <th>upper</th>  <th>reject</th>\n",
       "</tr>\n",
       "<tr>\n",
       "     <td>1</td>      <td>2</td>    <td>0.9599</td>  <td>0.1841</td> <td>-0.3204</td> <td>2.2402</td>   <td>False</td>\n",
       "</tr>\n",
       "<tr>\n",
       "     <td>1</td>      <td>3</td>    <td>-3.1799</td>  <td>0.001</td> <td>-4.305</td>  <td>-2.0548</td>  <td>True</td> \n",
       "</tr>\n",
       "<tr>\n",
       "     <td>2</td>      <td>3</td>    <td>-4.1398</td>  <td>0.001</td> <td>-5.4703</td> <td>-2.8093</td>  <td>True</td> \n",
       "</tr>\n",
       "</table>"
      ],
      "text/plain": [
       "<class 'statsmodels.iolib.table.SimpleTable'>"
      ]
     },
     "execution_count": 39,
     "metadata": {},
     "output_type": "execute_result"
    }
   ],
   "source": [
    "comp = mc.MultiComparison(data = df1[\"Wife's age\"], groups = df1['Contraceptive method'])\n",
    "post_hoc = comp.tukeyhsd()\n",
    "post_hoc.summary()"
   ]
  },
  {
   "cell_type": "markdown",
   "metadata": {},
   "source": [
    "The reject=False for pair (1,2) denotes that we fail to reject the null hypothesis, and conclude that the mean age of women using type 1 and type 2 of contraceptive method is the same.\n",
    "\n",
    "For the pairs (1,3) and (2,3) the mean age of women is not the same."
   ]
  },
  {
   "cell_type": "markdown",
   "metadata": {},
   "source": [
    "# 3.CHI-SQUARE ONE FACTOR"
   ]
  },
  {
   "cell_type": "markdown",
   "metadata": {},
   "source": [
    "## The Null and Alternative Hypothesis is:\n",
    "\n",
    "### H<sub>0</sub>: According to the survey, 40% of the women do not use any contraceptive method, 35% of the women uses long term contraceptive methods and the rest use short term Contraceptive Methods.\n",
    "\n",
    "### H<sub>1</sub>: The ratio of Contraceptive Method used is different from the claimed value."
   ]
  },
  {
   "cell_type": "code",
   "execution_count": 40,
   "metadata": {},
   "outputs": [],
   "source": [
    "obs=df['Contraceptive method'].value_counts().values\n",
    "n=sum(obs)\n",
    "exp=np.array([n*0.4,n*0.35,n*0.25])"
   ]
  },
  {
   "cell_type": "code",
   "execution_count": 42,
   "metadata": {},
   "outputs": [
    {
     "name": "stdout",
     "output_type": "stream",
     "text": [
      "Chi-square stat: 6.102851323828913\n",
      "P-value: 0.04729145468225175\n"
     ]
    }
   ],
   "source": [
    "chi_square_stat, p_value = stats.chisquare(obs, f_exp=exp)\n",
    "print(\"Chi-square stat:\",chi_square_stat)\n",
    "print(\"P-value:\",p_value)"
   ]
  },
  {
   "cell_type": "markdown",
   "metadata": {},
   "source": [
    "Here p-value is less than 0.05 thus we can reject the null hypothesis at 5% level of significance and conclude that the ratio of Contraceptive Method used is different from the claimed value."
   ]
  },
  {
   "cell_type": "markdown",
   "metadata": {},
   "source": [
    "# 4.MANN-WHITNEY U TEST"
   ]
  },
  {
   "cell_type": "markdown",
   "metadata": {},
   "source": [
    "## The Null and Alternative Hypothesis are:\n",
    "    \n",
    "### H<sub>0</sub>: Women currently working have the same or less number of children than women currently not working.\n",
    "\n",
    "### H<sub>1</sub>: Women currently working have more number of children than women currently not working."
   ]
  },
  {
   "cell_type": "code",
   "execution_count": 43,
   "metadata": {},
   "outputs": [],
   "source": [
    "wor_1=df[df[\"Wife's now working?\"]==0]['Number of children']\n",
    "wor_2=df[df[\"Wife's now working?\"]==1]['Number of children']"
   ]
  },
  {
   "cell_type": "code",
   "execution_count": 44,
   "metadata": {},
   "outputs": [
    {
     "data": {
      "image/png": "[encoded data removed]",
      "text/plain": [
       "<Figure size 576x360 with 1 Axes>"
      ]
     },
     "metadata": {
      "needs_background": "light"
     },
     "output_type": "display_data"
    }
   ],
   "source": [
    "sage1 = df.groupby(\"Wife's now working?\", as_index = False)[\"Number of children\"].mean().sort_values(by=\"Number of children\",ascending = False)\n",
    "plt.figure(figsize=(8,5))\n",
    "sns.barplot(x = \"Wife's now working?\",\n",
    "            y = \"Number of children\",\n",
    "            data = df)\n",
    "plt.xlabel(\"Wife's now working And Not Working?\")\n",
    "plt.ylabel('Number of children')\n",
    "plt.title('Women working status vs Number_of_children ')\n",
    "plt.show()"
   ]
  },
  {
   "cell_type": "code",
   "execution_count": 45,
   "metadata": {},
   "outputs": [
    {
     "name": "stdout",
     "output_type": "stream",
     "text": [
      "Zstat: 0.9149459004402161 P-value: 1.3946588567174956e-13\n",
      "Zstat: 0.9103067517280579 P-value: 5.461878157714309e-25\n"
     ]
    }
   ],
   "source": [
    "#normality test-->shapiro\n",
    "zstat,pvalue=stats.shapiro(wor_1)\n",
    "print('Zstat:',zstat,'P-value:',pvalue)\n",
    "zstat,pvalue=stats.shapiro(wor_2)\n",
    "print('Zstat:',zstat,'P-value:',pvalue)"
   ]
  },
  {
   "cell_type": "markdown",
   "metadata": {},
   "source": [
    "From the above result, we can see that the p-value is less than 0.05, thus we can say that the number of children of women currently working and women not currently working are not normally distributed ."
   ]
  },
  {
   "cell_type": "markdown",
   "metadata": {},
   "source": [
    "Since data is not normally distributed here we use non parametric test"
   ]
  },
  {
   "cell_type": "code",
   "execution_count": 46,
   "metadata": {},
   "outputs": [
    {
     "name": "stdout",
     "output_type": "stream",
     "text": [
      "Test statistic: 177047.5\n",
      "p-value: 0.9999302180431572\n"
     ]
    }
   ],
   "source": [
    "test_stat, p_value = stats.mannwhitneyu(wor_1,wor_2,alternative = 'greater')\n",
    "\n",
    "# print the test statistic and corresponding p-value\n",
    "print('Test statistic:', test_stat)\n",
    "print('p-value:', p_value)"
   ]
  },
  {
   "cell_type": "markdown",
   "metadata": {},
   "source": [
    "Here the p-value is greater than 0.05. Thus we fail to reject (i.e. accept) the null hypothesis and we can conclude that Women currently working have the same or less number of children than women currently not working."
   ]
  },
  {
   "cell_type": "markdown",
   "metadata": {},
   "source": [
    "# 5.WILCOXON RANK SUM TEST"
   ]
  },
  {
   "cell_type": "markdown",
   "metadata": {},
   "source": [
    "## The Null and Alternative Hypothesis are:\n",
    "    \n",
    "### H0: Couples with higher standard of living have the same or less children than couples with lower standard of living.\n",
    "\n",
    "### H1:  Couples with higher standard of living have more children than couples with lower standard of living.\n"
   ]
  },
  {
   "cell_type": "code",
   "execution_count": 47,
   "metadata": {},
   "outputs": [
    {
     "data": {
      "text/html": [
       "<div>\n",
       "<style scoped>\n",
       "    .dataframe tbody tr th:only-of-type {\n",
       "        vertical-align: middle;\n",
       "    }\n",
       "\n",
       "    .dataframe tbody tr th {\n",
       "        vertical-align: top;\n",
       "    }\n",
       "\n",
       "    .dataframe thead th {\n",
       "        text-align: right;\n",
       "    }\n",
       "</style>\n",
       "<table border=\"1\" class=\"dataframe\">\n",
       "  <thead>\n",
       "    <tr style=\"text-align: right;\">\n",
       "      <th></th>\n",
       "      <th>Standard-of-living index</th>\n",
       "      <th>Number of children</th>\n",
       "    </tr>\n",
       "  </thead>\n",
       "  <tbody>\n",
       "    <tr>\n",
       "      <th>0</th>\n",
       "      <td>3</td>\n",
       "      <td>3</td>\n",
       "    </tr>\n",
       "    <tr>\n",
       "      <th>1</th>\n",
       "      <td>4</td>\n",
       "      <td>10</td>\n",
       "    </tr>\n",
       "    <tr>\n",
       "      <th>2</th>\n",
       "      <td>4</td>\n",
       "      <td>7</td>\n",
       "    </tr>\n",
       "    <tr>\n",
       "      <th>3</th>\n",
       "      <td>3</td>\n",
       "      <td>9</td>\n",
       "    </tr>\n",
       "    <tr>\n",
       "      <th>4</th>\n",
       "      <td>2</td>\n",
       "      <td>8</td>\n",
       "    </tr>\n",
       "  </tbody>\n",
       "</table>\n",
       "</div>"
      ],
      "text/plain": [
       "  Standard-of-living index  Number of children\n",
       "0                        3                   3\n",
       "1                        4                  10\n",
       "2                        4                   7\n",
       "3                        3                   9\n",
       "4                        2                   8"
      ]
     },
     "execution_count": 47,
     "metadata": {},
     "output_type": "execute_result"
    }
   ],
   "source": [
    "df2=df[[\"Standard-of-living index\",\"Number of children\"]]\n",
    "df2.head()"
   ]
  },
  {
   "cell_type": "code",
   "execution_count": 48,
   "metadata": {},
   "outputs": [],
   "source": [
    "d1=df2[df2[\"Standard-of-living index\"]==1]\n",
    "d4=df2[df2[\"Standard-of-living index\"]==4]"
   ]
  },
  {
   "cell_type": "code",
   "execution_count": 49,
   "metadata": {},
   "outputs": [
    {
     "data": {
      "image/png": "[encoded data removed]",
      "text/plain": [
       "<Figure size 432x288 with 1 Axes>"
      ]
     },
     "metadata": {
      "needs_background": "light"
     },
     "output_type": "display_data"
    }
   ],
   "source": [
    "ax=sns.barplot(df2[\"Standard-of-living index\"],df2[\"Number of children\"],palette=['green','red','yellow','blue'])\n",
    "ax.set_xticklabels([\"SOL-1\",\"SOL-2\",'SOL-3','SOL-4'])\n",
    "plt.show()"
   ]
  },
  {
   "cell_type": "code",
   "execution_count": 50,
   "metadata": {},
   "outputs": [
    {
     "name": "stdout",
     "output_type": "stream",
     "text": [
      "ShapiroResult(statistic=0.8609471321105957, pvalue=3.1034007406560704e-05)\n",
      "ShapiroResult(statistic=0.8921985626220703, pvalue=0.0002681699115782976)\n"
     ]
    }
   ],
   "source": [
    "# Checking for normality of data at 95% confidence level\n",
    "dtype1=df2[df2[\"Standard-of-living index\"]==1].sample(50,random_state=1)\n",
    "dtype4=df2[df2[\"Standard-of-living index\"]==4].sample(50,random_state=1)\n",
    "print(stats.shapiro(dtype1[\"Number of children\"]))\n",
    "print(stats.shapiro(dtype4[\"Number of children\"]))"
   ]
  },
  {
   "cell_type": "markdown",
   "metadata": {},
   "source": [
    "Since all the p-values are less than 5% significance level we conclude that the data is not normal"
   ]
  },
  {
   "cell_type": "markdown",
   "metadata": {},
   "source": [
    "And so we opt for a Non-parametric test"
   ]
  },
  {
   "cell_type": "code",
   "execution_count": 54,
   "metadata": {},
   "outputs": [
    {
     "name": "stdout",
     "output_type": "stream",
     "text": [
      "Critical value for one-tailed Z-test: 1.64\n",
      "Test stat: -0.7388117954724889\n"
     ]
    }
   ],
   "source": [
    "#Calculating Critical value\n",
    "z_val = round(stats.norm.isf(q = 0.05), 2)\n",
    "print('Critical value for one-tailed Z-test:', z_val)\n",
    "test_stat, p_value = stats.ranksums(d1[\"Number of children\"],d4[\"Number of children\"])\n",
    "print(\"Test stat:\",test_stat)"
   ]
  },
  {
   "cell_type": "markdown",
   "metadata": {},
   "source": [
    "Since test statistic is less than critical value with 95% confidence it falls in the acceptance region and so we fail to reject the null hypothesis and coclude that Couples with higher standard of living have the same or less children than couples with lower standard of living."
   ]
  },
  {
   "cell_type": "markdown",
   "metadata": {},
   "source": [
    "# 6.CHI-SQUARE TWO FACTOR"
   ]
  },
  {
   "cell_type": "markdown",
   "metadata": {},
   "source": [
    "## The Null and Alternative Hypothesis are:\n",
    "    \n",
    "### H<sub>0</sub>: Contraceptive Method used does not depend on media exposure of the couple.\n",
    "    \n",
    "### H<sub>1</sub>: Contraceptive Method used depends on media exposure of the couple."
   ]
  },
  {
   "cell_type": "code",
   "execution_count": 55,
   "metadata": {},
   "outputs": [
    {
     "data": {
      "text/html": [
       "<div>\n",
       "<style scoped>\n",
       "    .dataframe tbody tr th:only-of-type {\n",
       "        vertical-align: middle;\n",
       "    }\n",
       "\n",
       "    .dataframe tbody tr th {\n",
       "        vertical-align: top;\n",
       "    }\n",
       "\n",
       "    .dataframe thead th {\n",
       "        text-align: right;\n",
       "    }\n",
       "</style>\n",
       "<table border=\"1\" class=\"dataframe\">\n",
       "  <thead>\n",
       "    <tr style=\"text-align: right;\">\n",
       "      <th>Contraceptive method</th>\n",
       "      <th>1</th>\n",
       "      <th>2</th>\n",
       "      <th>3</th>\n",
       "    </tr>\n",
       "    <tr>\n",
       "      <th>Media exposure</th>\n",
       "      <th></th>\n",
       "      <th></th>\n",
       "      <th></th>\n",
       "    </tr>\n",
       "  </thead>\n",
       "  <tbody>\n",
       "    <tr>\n",
       "      <th>0</th>\n",
       "      <td>555</td>\n",
       "      <td>323</td>\n",
       "      <td>486</td>\n",
       "    </tr>\n",
       "    <tr>\n",
       "      <th>1</th>\n",
       "      <td>74</td>\n",
       "      <td>10</td>\n",
       "      <td>25</td>\n",
       "    </tr>\n",
       "  </tbody>\n",
       "</table>\n",
       "</div>"
      ],
      "text/plain": [
       "Contraceptive method    1    2    3\n",
       "Media exposure                     \n",
       "0                     555  323  486\n",
       "1                      74   10   25"
      ]
     },
     "execution_count": 55,
     "metadata": {},
     "output_type": "execute_result"
    }
   ],
   "source": [
    "pd.crosstab(index= df['Media exposure'],columns=df['Contraceptive method'])"
   ]
  },
  {
   "cell_type": "code",
   "execution_count": 56,
   "metadata": {},
   "outputs": [
    {
     "name": "stdout",
     "output_type": "stream",
     "text": [
      "Chi-statistic: 31.572283442858545 \n",
      "P-value: 1.393688639141483e-07 \n",
      "Degrees of freedom: 2\n"
     ]
    }
   ],
   "source": [
    "quality_array = pd.crosstab(index= df['Media exposure'],columns=df['Contraceptive method'])\n",
    "chi_sq_Stat, p_value, deg_freedom, exp_freq = stats.chi2_contingency(quality_array)\n",
    "stats.chi2_contingency(quality_array)\n",
    "\n",
    "print('Chi-statistic: {} \\nP-value: {} \\nDegrees of freedom: {}' .format(chi_sq_Stat, p_value,deg_freedom))"
   ]
  },
  {
   "cell_type": "markdown",
   "metadata": {},
   "source": [
    "Since the p-value(1.39e^-07) is less than 0.05, we reject the null hypothesis. Therefore we can say with 95% confidence that contraceptive method used depends on media exposure."
   ]
  },
  {
   "cell_type": "markdown",
   "metadata": {},
   "source": [
    "<a id = \"SIMUL\"> </a>\n",
    "## SIMULATION"
   ]
  },
  {
   "cell_type": "code",
   "execution_count": 57,
   "metadata": {},
   "outputs": [],
   "source": [
    "def central_limit_theorem(df,column_names,n_samples = 1000, sample_size = 500):\n",
    "    min_value = 0 \n",
    "    max_value = df.count()  \n",
    "    b = {}\n",
    "    for i in range(n_samples):\n",
    "        x = np.unique(np.random.randint(min_value, max_value, size = sample_size)) \n",
    "        b[i] = df[x].mean()   \n",
    "    c = pd.DataFrame()\n",
    "    c['sample'] = b.keys()   \n",
    "    c['Mean'] = b.values()  \n",
    "    plt.figure(figsize= (15,5))\n",
    "\n",
    "    plt.subplot(1,2,2)\n",
    "    sns.distplot(c.Mean,color='green')\n",
    "    plt.title(f\"Sampling Distribution. \\n \\u03bc = {round(c.Mean.mean(), 3)} & SE = {round(c.Mean.std(),3)}\")\n",
    "    plt.xlabel(column_names)\n",
    "    plt.ylabel('freq')\n",
    "\n",
    "    plt.subplot(1,2,1)\n",
    "    sns.distplot(df,color='red')\n",
    "    plt.title(f\"Population Distribution. \\n \\u03bc = {round(df.mean(), 3)} & \\u03C3 = {round(df.std(),3)}\")\n",
    "    plt.xlabel(column_names)\n",
    "    plt.ylabel('freq')\n",
    "\n",
    "    plt.show()\n",
    "\n",
    "series1 = df[\"Number of children\"]\n",
    "series2 = df[\"Wife's age\"]\n"
   ]
  },
  {
   "cell_type": "markdown",
   "metadata": {},
   "source": [
    "### Simulation with sample size = 500 and no of samples = 20"
   ]
  },
  {
   "cell_type": "code",
   "execution_count": 58,
   "metadata": {},
   "outputs": [
    {
     "data": {
      "image/png": "[encoded data removed]",
      "text/plain": [
       "<Figure size 1080x360 with 2 Axes>"
      ]
     },
     "metadata": {
      "needs_background": "light"
     },
     "output_type": "display_data"
    },
    {
     "data": {
      "image/png": "[encoded data removed]",
      "text/plain": [
       "<Figure size 1080x360 with 2 Axes>"
      ]
     },
     "metadata": {
      "needs_background": "light"
     },
     "output_type": "display_data"
    }
   ],
   "source": [
    "central_limit_theorem(series1,'Number of children',n_samples = 20, sample_size = 20)\n",
    "central_limit_theorem(series2,\"Wife's age\",n_samples =20, sample_size = 20)"
   ]
  },
  {
   "cell_type": "markdown",
   "metadata": {},
   "source": [
    "### Simulation with sample size = 500 and no of samples = 500"
   ]
  },
  {
   "cell_type": "code",
   "execution_count": 59,
   "metadata": {},
   "outputs": [
    {
     "data": {
      "image/png": "[encoded data removed]",
      "text/plain": [
       "<Figure size 1080x360 with 2 Axes>"
      ]
     },
     "metadata": {
      "needs_background": "light"
     },
     "output_type": "display_data"
    },
    {
     "data": {
      "image/png": "[encoded data removed]",
      "text/plain": [
       "<Figure size 1080x360 with 2 Axes>"
      ]
     },
     "metadata": {
      "needs_background": "light"
     },
     "output_type": "display_data"
    }
   ],
   "source": [
    "central_limit_theorem(series1,'Number of children',n_samples = 500, sample_size = 500)\n",
    "central_limit_theorem(series2,\"Wife's age\",n_samples = 500, sample_size = 500)"
   ]
  }
 ],
 "metadata": {
  "kernelspec": {
   "display_name": "Python 3",
   "language": "python",
   "name": "python3"
  },
  "language_info": {
   "codemirror_mode": {
    "name": "ipython",
    "version": 3
   },
   "file_extension": ".py",
   "mimetype": "text/x-python",
   "name": "python",
   "nbconvert_exporter": "python",
   "pygments_lexer": "ipython3",
   "version": "3.7.6"
  }
 },
 "nbformat": 4,
 "nbformat_minor": 4
}
